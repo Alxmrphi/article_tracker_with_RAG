{
 "cells": [
  {
   "cell_type": "code",
   "execution_count": 2,
   "id": "60933faf-87ba-435d-b8c9-847d9e308f06",
   "metadata": {},
   "outputs": [
    {
     "name": "stdout",
     "output_type": "stream",
     "text": [
      "✅ Database connection successful!\n",
      "Current articles count: 0\n"
     ]
    }
   ],
   "source": [
    "# Test database connection\n",
    "import os\n",
    "from dotenv import load_dotenv\n",
    "from supabase import create_client, Client\n",
    "\n",
    "load_dotenv()\n",
    "\n",
    "# You'll get these from Supabase dashboard\n",
    "SUPABASE_URL = os.environ.get(\"SUPABASE_URL\", \"\")\n",
    "SUPABASE_KEY = os.environ.get(\"SUPABASE_KEY\", \"\")\n",
    "supabase: Client = create_client(SUPABASE_URL, SUPABASE_KEY)\n",
    "\n",
    "# Test connection\n",
    "try:\n",
    "    result = supabase.table('articles').select(\"*\").limit(1).execute()\n",
    "    print(\"✅ Database connection successful!\")\n",
    "    print(f\"Current articles count: {len(result.data)}\")\n",
    "except Exception as e:\n",
    "    print(f\"❌ Connection failed: {e}\")"
   ]
  },
  {
   "cell_type": "code",
   "execution_count": 3,
   "id": "dd57f6d0-2fdf-4d04-985c-4aac25090eac",
   "metadata": {},
   "outputs": [],
   "source": [
    "import requests\n",
    "import json\n",
    "import xml.etree.ElementTree as ET\n",
    "from datetime import datetime, timedelta\n",
    "import arxiv\n",
    "from pprint import pprint"
   ]
  },
  {
   "cell_type": "code",
   "execution_count": 4,
   "id": "4543485e-5dcd-4f27-ae62-f984ee0b9905",
   "metadata": {},
   "outputs": [
    {
     "name": "stderr",
     "output_type": "stream",
     "text": [
      "C:\\Users\\murph\\AppData\\Local\\Temp\\ipykernel_23968\\746264699.py:25: DeprecationWarning: The 'Search.results' method is deprecated, use 'Client.results' instead\n",
      "  papers = list(search.results())\n"
     ]
    },
    {
     "name": "stdout",
     "output_type": "stream",
     "text": [
      "Saving 10 papers to database...\n",
      "✅ Saved: BrainMAP: Learning Multiple Activation Pathways in...\n",
      "✅ Saved: Lite-Mind: Towards Efficient and Robust Brain Repr...\n",
      "✅ Saved: Animate Your Thoughts: Decoupled Reconstruction of...\n",
      "✅ Saved: Conscious Intelligent Systems - Part 1 : I X I...\n",
      "✅ Saved: Uncovering communities of pipelines in the task-fM...\n",
      "✅ Saved: GDAIP: A Graph-Based Domain Adaptive Framework for...\n",
      "✅ Saved: MindFormer: Semantic Alignment of Multi-Subject fM...\n",
      "✅ Saved: Source-Free Collaborative Domain Adaptation via Mu...\n",
      "✅ Saved: Artificial Intelligence in Fetal Resting-State Fun...\n",
      "✅ Saved: BrainCLIP: Bridging Brain and Visual-Linguistic Re...\n",
      "\n",
      "Database now contains 10 articles\n"
     ]
    }
   ],
   "source": [
    "# Function to save arXiv papers to database\n",
    "def save_papers_to_db(papers: list) -> None:\n",
    "    \"\"\"Save a list of papers to Supabase\"\"\"\n",
    "    for paper in papers:\n",
    "        # Convert arxiv paper object to database format\n",
    "        paper_data = {\n",
    "            'arxiv_id': paper.entry_id.split('/')[-1],\n",
    "            'title': paper.title,\n",
    "            'authors': [str(author) for author in paper.authors],\n",
    "            'abstract': paper.summary,\n",
    "            'published_date': paper.published.date().isoformat(),\n",
    "            'categories': paper.categories,\n",
    "            'pdf_url': paper.pdf_url,\n",
    "            'processing_status': 'metadata_only'\n",
    "        }\n",
    "        \n",
    "        try:\n",
    "            result = supabase.table('articles').insert(paper_data).execute()\n",
    "            print(f\"✅ Saved: {paper.title[:50]}...\")\n",
    "        except Exception as e:\n",
    "            print(f\"❌ Failed to save {paper.title[:30]}...: {e}\")\n",
    "\n",
    "# Test with some papers\n",
    "search = arxiv.Search(query=\"cat:cs.AI AND all:fMRI\", max_results=10)\n",
    "papers = list(search.results())\n",
    "\n",
    "print(f\"Saving {len(papers)} papers to database...\")\n",
    "save_papers_to_db(papers)\n",
    "\n",
    "# Verify they were saved\n",
    "result = supabase.table('articles').select(\"*\").execute()\n",
    "print(f\"\\nDatabase now contains {len(result.data)} articles\")"
   ]
  },
  {
   "cell_type": "code",
   "execution_count": null,
   "id": "b9fa1a87-0da5-4738-b24e-6bbbf7a4d0ee",
   "metadata": {},
   "outputs": [],
   "source": []
  }
 ],
 "metadata": {
  "kernelspec": {
   "display_name": "Python 3 (ipykernel)",
   "language": "python",
   "name": "python3"
  },
  "language_info": {
   "codemirror_mode": {
    "name": "ipython",
    "version": 3
   },
   "file_extension": ".py",
   "mimetype": "text/x-python",
   "name": "python",
   "nbconvert_exporter": "python",
   "pygments_lexer": "ipython3",
   "version": "3.13.7"
  }
 },
 "nbformat": 4,
 "nbformat_minor": 5
}
